{
 "cells": [
  {
   "cell_type": "code",
   "execution_count": 1,
   "metadata": {},
   "outputs": [],
   "source": [
    "vertice_color=pd.read_csv(\"vertice_color.csv\", header=None)\n",
    "vertice_color=vertice_color.astype(int)\n",
    "terrain_vals=pd.read_csv(\"mydata.csv\", header=None)"
   ]
  },
  {
   "cell_type": "code",
   "execution_count": 5,
   "metadata": {},
   "outputs": [],
   "source": [
    "slope0f=terrain_vals[0]"
   ]
  },
  {
   "cell_type": "code",
   "execution_count": 6,
   "metadata": {},
   "outputs": [],
   "source": [
    "terrain_variable=slope0f\n",
    "color_range=2/3\n",
    "hue=(terrain_variable-np.min(terrain_variable))/(np.max(terrain_variable)-np.min(terrain_variable))*color_range\n",
    "sat=np.ones(len(terrain_variable))\n",
    "bri=np.ones(len(terrain_variable))"
   ]
  },
  {
   "cell_type": "code",
   "execution_count": 34,
   "metadata": {},
   "outputs": [],
   "source": [
    "def color_taking(variables, mode=\"hsv\"):\n",
    "    if(mode==\"hsv\"):\n",
    "        import colorsys\n",
    "        import numpy as np\n",
    "        if(mode==\"hsv\"):\n",
    "            hue=(terrain_variable-np.min(terrain_variable))/(np.max(terrain_variable)-np.min(terrain_variable))*color_range\n",
    "            sat=np.ones(len(terrain_variable))\n",
    "            bri=np.ones(len(terrain_variable))\n",
    "            color_vec=np.array([hue, sat, bri])\n",
    "            color_vec=np.array([hue,sat,bri]).T\n",
    "            color_vec=matplotlib.colors.hsv_to_rgb(color)\n",
    "    return(color_vec)  "
   ]
  },
  {
   "cell_type": "code",
   "execution_count": 35,
   "metadata": {},
   "outputs": [
    {
     "data": {
      "text/plain": [
       "array([[0.        , 0.22203355, 1.        ],\n",
       "       [0.        , 0.        , 1.        ],\n",
       "       [0.        , 0.32097045, 1.        ],\n",
       "       ...,\n",
       "       [1.        , 0.        , 0.        ],\n",
       "       [1.        , 0.        , 0.        ],\n",
       "       [1.        , 0.        , 0.        ]])"
      ]
     },
     "execution_count": 35,
     "metadata": {},
     "output_type": "execute_result"
    }
   ],
   "source": [
    "color_taking(hue)"
   ]
  },
  {
   "cell_type": "code",
   "execution_count": 40,
   "metadata": {},
   "outputs": [
    {
     "data": {
      "text/plain": [
       "0    8.383601\n",
       "1    8.876310\n",
       "2    8.164052\n",
       "3    0.000000\n",
       "4    0.000000\n",
       "5    0.000000\n",
       "6    0.000000\n",
       "7    0.000000\n",
       "8    0.000000\n",
       "9    0.000000\n",
       "Name: 0, dtype: float64"
      ]
     },
     "execution_count": 40,
     "metadata": {},
     "output_type": "execute_result"
    }
   ],
   "source": [
    "slope0f[0:10]"
   ]
  }
 ],
 "metadata": {
  "kernelspec": {
   "display_name": "Python 3",
   "language": "python",
   "name": "python3"
  },
  "language_info": {
   "codemirror_mode": {
    "name": "ipython",
    "version": 3
   },
   "file_extension": ".py",
   "mimetype": "text/x-python",
   "name": "python",
   "nbconvert_exporter": "python",
   "pygments_lexer": "ipython3",
   "version": "3.6.1"
  }
 },
 "nbformat": 4,
 "nbformat_minor": 2
}
