{
 "cells": [
  {
   "cell_type": "markdown",
   "metadata": {},
   "source": [
    "plyファイルからproperty, vertice, faceに分割してverticeとfaceのデータを使う．"
   ]
  },
  {
   "cell_type": "code",
   "execution_count": 12,
   "metadata": {},
   "outputs": [],
   "source": [
    "model_path=r\"C:\\Users\\KANKI\\Documents\\github\\habmap\\modelA01\\modelA01.ply\""
   ]
  },
  {
   "cell_type": "code",
   "execution_count": 13,
   "metadata": {},
   "outputs": [],
   "source": [
    "def ply_read(model_path):\n",
    "    import numpy as np\n",
    "    test_data=open(model_path, \"r\")\n",
    "    property_data=[]\n",
    "    vertex_data=[]\n",
    "    face_data=[]\n",
    "\n",
    "    flag=\"p\"\n",
    "    #1行ずつ読み込む\n",
    "    for i,line in enumerate(test_data):\n",
    "        #面の読み込み\n",
    "        if(flag==\"f\"):\n",
    "            face_data.append(line.split(\" \"))\n",
    "\n",
    "        #点群の読み込み\n",
    "        if(flag==\"v\"):\n",
    "            vertex_data.append(line.split(\" \"))\n",
    "            if(i==len(property_data)+vertex_number-1):\n",
    "                flag=\"f\"\n",
    "\n",
    "        #ヘッダーの読み込み\n",
    "        if(flag==\"p\"):\n",
    "            property_data.append(line)\n",
    "            if(line==\"end_header\\n\"):\n",
    "                flag=\"v\"\n",
    "                #頂点データの数をプロパティから読み取る\n",
    "                l_XXX = [line for line in property_data if 'element vertex' in line]\n",
    "                vertex_number=int(str(l_XXX)[str(l_XXX).rfind(\"vertex \")+7:str(l_XXX).find(\"\\\\n\")])\n",
    "                #面の数をプロパティから読み取る\n",
    "                l_XXX = [line for line in property_data if 'element face' in line]\n",
    "                face_number=int(str(l_XXX)[str(l_XXX).rfind(\"face \")+7:str(l_XXX).find(\"\\\\n\")])\n",
    "    #array化\n",
    "    vertex_data=np.array(vertex_data)\n",
    "    face_data=np.array(face_data)\n",
    "    return(property_data, vertex_data, face_data)"
   ]
  },
  {
   "cell_type": "code",
   "execution_count": 14,
   "metadata": {},
   "outputs": [],
   "source": [
    "#ファイルの読み込み\n",
    "property_data, vertice_dataset, faces_dataset=ply_read(model_path)"
   ]
  },
  {
   "cell_type": "code",
   "execution_count": 15,
   "metadata": {},
   "outputs": [],
   "source": [
    "#点座標のcsvデータ化\n",
    "vertice_dataset2=pd.DataFrame(vertice_dataset)\n",
    "vertice_dataset3=vertice_dataset2.iloc[:,0:3]\n",
    "vertice_dataset3.to_csv('vertice_dataset.csv',header=False, index=False)\n",
    "#点ベクトル値のデータ化\n",
    "vertice_vector=vertice_dataset2.iloc[:,3:6]\n",
    "vertice_vector.to_csv('vertice_normal.csv',header=False, index=False)\n",
    "#点色などのデータ化\n",
    "vertice_color=vertice_dataset2.iloc[:,6:10]\n",
    "vertice_color.to_csv('vertice_color.csv',header=False, index=False)\n",
    "\n",
    "#面データのデータ化\n",
    "faces_dataset2=pd.DataFrame(faces_dataset)\n",
    "faces_dataset3=faces_dataset2.iloc[:,1:4]\n",
    "faces_dataset3.to_csv('faces_dataset.csv',header=False, index=False)\n",
    "#プロパティデータの作成（編集した後にplyファイル化するときに使います．）\n",
    "pd.DataFrame(property_data).to_csv(\"property_data.csv\", header=False, index=False)"
   ]
  },
  {
   "cell_type": "code",
   "execution_count": 16,
   "metadata": {},
   "outputs": [],
   "source": [
    "vertex_number=len(vertice_dataset2)\n",
    "faces_number=len(faces_dataset2)\n",
    "path_property='property.d'\n",
    "with open(path_property, mode='w') as f:\n",
    "    f.write(str(vertex_number)+\",\")\n",
    "    f.write(str(faces_number))"
   ]
  },
  {
   "cell_type": "code",
   "execution_count": null,
   "metadata": {},
   "outputs": [],
   "source": []
  }
 ],
 "metadata": {
  "kernelspec": {
   "display_name": "Python 3",
   "language": "python",
   "name": "python3"
  },
  "language_info": {
   "codemirror_mode": {
    "name": "ipython",
    "version": 3
   },
   "file_extension": ".py",
   "mimetype": "text/x-python",
   "name": "python",
   "nbconvert_exporter": "python",
   "pygments_lexer": "ipython3",
   "version": "3.6.1"
  }
 },
 "nbformat": 4,
 "nbformat_minor": 2
}
