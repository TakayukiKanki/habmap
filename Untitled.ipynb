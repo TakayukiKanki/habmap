{
 "cells": [
  {
   "cell_type": "markdown",
   "metadata": {},
   "source": [
    "#地形条件を色表示する"
   ]
  },
  {
   "cell_type": "code",
   "execution_count": 195,
   "metadata": {},
   "outputs": [],
   "source": [
    "def ply_read(model_path):\n",
    "    import numpy as np\n",
    "    test_data=open(model_path, \"r\")\n",
    "    property_data=[]\n",
    "    vertex_data=[]\n",
    "    face_data=[]\n",
    "\n",
    "    flag=\"p\"\n",
    "    #1行ずつ読み込む\n",
    "    for i,line in enumerate(test_data):\n",
    "        #面の読み込み\n",
    "        if(flag==\"f\"):\n",
    "            face_data.append(line.split(\" \"))\n",
    "\n",
    "        #点群の読み込み\n",
    "        if(flag==\"v\"):\n",
    "            vertex_data.append(line.split(\" \"))\n",
    "            if(i==len(property_data)+vertex_number-1):\n",
    "                flag=\"f\"\n",
    "\n",
    "        #ヘッダーの読み込み\n",
    "        if(flag==\"p\"):\n",
    "            property_data.append(line)\n",
    "            if(line==\"end_header\\n\"):\n",
    "                flag=\"v\"\n",
    "                #頂点データの数をプロパティから読み取る\n",
    "                l_XXX = [line for line in property_data if 'element vertex' in line]\n",
    "                vertex_number=int(str(l_XXX)[str(l_XXX).rfind(\"vertex \")+7:str(l_XXX).find(\"\\\\n\")])\n",
    "                #面の数をプロパティから読み取る\n",
    "                l_XXX = [line for line in property_data if 'element face' in line]\n",
    "                face_number=int(str(l_XXX)[str(l_XXX).rfind(\"face \")+7:str(l_XXX).find(\"\\\\n\")])\n",
    "    #array化\n",
    "    vertex_data=np.array(vertex_data)\n",
    "    face_data=np.array(face_data)\n",
    "    return(property_data, vertex_data, face_data)\n",
    "\n",
    "def color_taking(terrain_variable, mode=\"hsv\",color_range=2/3):\n",
    "    if(mode==\"hsv\"):\n",
    "        import numpy as np\n",
    "        import matplotlib\n",
    "        hue=(terrain_variable-np.min(terrain_variable))/(np.max(terrain_variable)-np.min(terrain_variable))*color_range\n",
    "        sat=np.ones(len(terrain_variable))\n",
    "        bri=np.ones(len(terrain_variable))\n",
    "        color_vec=np.array([hue, sat, bri]).T\n",
    "        #color_vec=color_vec*255\n",
    "        color_vec=matplotlib.colors.hsv_to_rgb(color_vec)*255\n",
    "        color_vec=color_vec.astype(int)\n",
    "    return(color_vec)  \n",
    "\n",
    "#編集したarrayをplyファイルに直すのに使います\n",
    "def array_to_ply(property_data, vertice_data_all, vertice_color, faces_data, faces_color):\n",
    "    vertice_data2=[]\n",
    "    for i in range(0,len(vertice_data)):\n",
    "        line1=map(str, vertice_data_all.iloc[i,:])\n",
    "        #line2=map(str, vertice_norm.iloc[i,:])\n",
    "        line3=map(str,vertice_color.iloc[i,:])\n",
    "        vertice_data2.append(' '.join(line1)+\" \"+' '.join(line3)+\"\\n\")\n",
    "\n",
    "    faces_data2=[]\n",
    "    for i in range(0,len(faces_data)):\n",
    "        line4=map(str,faces_data.iloc[i,:])\n",
    "        line5=map(str,faces_color.iloc[i,:])\n",
    "        #faces_data2.append(\"3 \"+' '.join(line4)+\"\\n\")\n",
    "        faces_data2.append(\"3 \"+' '.join(line4)+\" \"+' '.join(line5)+\" 255\"+\"\\n\")\n",
    "    plydata=property_data+vertice_data2+faces_data2\n",
    "    return(plydata)\n",
    "\n",
    "#plyデータの保存\n",
    "def save_ply(model_path, plydata):\n",
    "    with open(model_path, mode='w') as f:\n",
    "        f.writelines(plydata)"
   ]
  },
  {
   "cell_type": "code",
   "execution_count": 196,
   "metadata": {},
   "outputs": [
    {
     "ename": "TypeError",
     "evalue": "unsupported operand type(s) for -: 'str' and 'str'",
     "output_type": "error",
     "traceback": [
      "\u001b[1;31m---------------------------------------------------------------------------\u001b[0m",
      "\u001b[1;31mTypeError\u001b[0m                                 Traceback (most recent call last)",
      "\u001b[1;32mc:\\users\\kanki\\appdata\\local\\continuum\\anaconda3\\lib\\site-packages\\pandas\\core\\ops.py\u001b[0m in \u001b[0;36mna_op\u001b[1;34m(x, y)\u001b[0m\n\u001b[0;32m    657\u001b[0m             result = expressions.evaluate(op, str_rep, x, y,\n\u001b[1;32m--> 658\u001b[1;33m                                           raise_on_error=True, **eval_kwargs)\n\u001b[0m\u001b[0;32m    659\u001b[0m         \u001b[1;32mexcept\u001b[0m \u001b[0mTypeError\u001b[0m\u001b[1;33m:\u001b[0m\u001b[1;33m\u001b[0m\u001b[0m\n",
      "\u001b[1;32mc:\\users\\kanki\\appdata\\local\\continuum\\anaconda3\\lib\\site-packages\\pandas\\core\\computation\\expressions.py\u001b[0m in \u001b[0;36mevaluate\u001b[1;34m(op, op_str, a, b, raise_on_error, use_numexpr, **eval_kwargs)\u001b[0m\n\u001b[0;32m    210\u001b[0m         return _evaluate(op, op_str, a, b, raise_on_error=raise_on_error,\n\u001b[1;32m--> 211\u001b[1;33m                          **eval_kwargs)\n\u001b[0m\u001b[0;32m    212\u001b[0m     \u001b[1;32mreturn\u001b[0m \u001b[0m_evaluate_standard\u001b[0m\u001b[1;33m(\u001b[0m\u001b[0mop\u001b[0m\u001b[1;33m,\u001b[0m \u001b[0mop_str\u001b[0m\u001b[1;33m,\u001b[0m \u001b[0ma\u001b[0m\u001b[1;33m,\u001b[0m \u001b[0mb\u001b[0m\u001b[1;33m,\u001b[0m \u001b[0mraise_on_error\u001b[0m\u001b[1;33m=\u001b[0m\u001b[0mraise_on_error\u001b[0m\u001b[1;33m)\u001b[0m\u001b[1;33m\u001b[0m\u001b[0m\n",
      "\u001b[1;32mc:\\users\\kanki\\appdata\\local\\continuum\\anaconda3\\lib\\site-packages\\pandas\\core\\computation\\expressions.py\u001b[0m in \u001b[0;36m_evaluate_numexpr\u001b[1;34m(op, op_str, a, b, raise_on_error, truediv, reversed, **eval_kwargs)\u001b[0m\n\u001b[0;32m    121\u001b[0m     \u001b[1;32mif\u001b[0m \u001b[0mresult\u001b[0m \u001b[1;32mis\u001b[0m \u001b[1;32mNone\u001b[0m\u001b[1;33m:\u001b[0m\u001b[1;33m\u001b[0m\u001b[0m\n\u001b[1;32m--> 122\u001b[1;33m         \u001b[0mresult\u001b[0m \u001b[1;33m=\u001b[0m \u001b[0m_evaluate_standard\u001b[0m\u001b[1;33m(\u001b[0m\u001b[0mop\u001b[0m\u001b[1;33m,\u001b[0m \u001b[0mop_str\u001b[0m\u001b[1;33m,\u001b[0m \u001b[0ma\u001b[0m\u001b[1;33m,\u001b[0m \u001b[0mb\u001b[0m\u001b[1;33m,\u001b[0m \u001b[0mraise_on_error\u001b[0m\u001b[1;33m)\u001b[0m\u001b[1;33m\u001b[0m\u001b[0m\n\u001b[0m\u001b[0;32m    123\u001b[0m \u001b[1;33m\u001b[0m\u001b[0m\n",
      "\u001b[1;32mc:\\users\\kanki\\appdata\\local\\continuum\\anaconda3\\lib\\site-packages\\pandas\\core\\computation\\expressions.py\u001b[0m in \u001b[0;36m_evaluate_standard\u001b[1;34m(op, op_str, a, b, raise_on_error, **eval_kwargs)\u001b[0m\n\u001b[0;32m     63\u001b[0m     \u001b[1;32mwith\u001b[0m \u001b[0mnp\u001b[0m\u001b[1;33m.\u001b[0m\u001b[0merrstate\u001b[0m\u001b[1;33m(\u001b[0m\u001b[0mall\u001b[0m\u001b[1;33m=\u001b[0m\u001b[1;34m'ignore'\u001b[0m\u001b[1;33m)\u001b[0m\u001b[1;33m:\u001b[0m\u001b[1;33m\u001b[0m\u001b[0m\n\u001b[1;32m---> 64\u001b[1;33m         \u001b[1;32mreturn\u001b[0m \u001b[0mop\u001b[0m\u001b[1;33m(\u001b[0m\u001b[0ma\u001b[0m\u001b[1;33m,\u001b[0m \u001b[0mb\u001b[0m\u001b[1;33m)\u001b[0m\u001b[1;33m\u001b[0m\u001b[0m\n\u001b[0m\u001b[0;32m     65\u001b[0m \u001b[1;33m\u001b[0m\u001b[0m\n",
      "\u001b[1;31mTypeError\u001b[0m: unsupported operand type(s) for -: 'str' and 'str'",
      "\nDuring handling of the above exception, another exception occurred:\n",
      "\u001b[1;31mTypeError\u001b[0m                                 Traceback (most recent call last)",
      "\u001b[1;32mc:\\users\\kanki\\appdata\\local\\continuum\\anaconda3\\lib\\site-packages\\pandas\\core\\ops.py\u001b[0m in \u001b[0;36msafe_na_op\u001b[1;34m(lvalues, rvalues)\u001b[0m\n\u001b[0;32m    681\u001b[0m             \u001b[1;32mwith\u001b[0m \u001b[0mnp\u001b[0m\u001b[1;33m.\u001b[0m\u001b[0merrstate\u001b[0m\u001b[1;33m(\u001b[0m\u001b[0mall\u001b[0m\u001b[1;33m=\u001b[0m\u001b[1;34m'ignore'\u001b[0m\u001b[1;33m)\u001b[0m\u001b[1;33m:\u001b[0m\u001b[1;33m\u001b[0m\u001b[0m\n\u001b[1;32m--> 682\u001b[1;33m                 \u001b[1;32mreturn\u001b[0m \u001b[0mna_op\u001b[0m\u001b[1;33m(\u001b[0m\u001b[0mlvalues\u001b[0m\u001b[1;33m,\u001b[0m \u001b[0mrvalues\u001b[0m\u001b[1;33m)\u001b[0m\u001b[1;33m\u001b[0m\u001b[0m\n\u001b[0m\u001b[0;32m    683\u001b[0m         \u001b[1;32mexcept\u001b[0m \u001b[0mException\u001b[0m\u001b[1;33m:\u001b[0m\u001b[1;33m\u001b[0m\u001b[0m\n",
      "\u001b[1;32mc:\\users\\kanki\\appdata\\local\\continuum\\anaconda3\\lib\\site-packages\\pandas\\core\\ops.py\u001b[0m in \u001b[0;36mna_op\u001b[1;34m(x, y)\u001b[0m\n\u001b[0;32m    667\u001b[0m                 \u001b[0mmask\u001b[0m \u001b[1;33m=\u001b[0m \u001b[0mnotnull\u001b[0m\u001b[1;33m(\u001b[0m\u001b[0mx\u001b[0m\u001b[1;33m)\u001b[0m\u001b[1;33m\u001b[0m\u001b[0m\n\u001b[1;32m--> 668\u001b[1;33m                 \u001b[0mresult\u001b[0m\u001b[1;33m[\u001b[0m\u001b[0mmask\u001b[0m\u001b[1;33m]\u001b[0m \u001b[1;33m=\u001b[0m \u001b[0mop\u001b[0m\u001b[1;33m(\u001b[0m\u001b[0mx\u001b[0m\u001b[1;33m[\u001b[0m\u001b[0mmask\u001b[0m\u001b[1;33m]\u001b[0m\u001b[1;33m,\u001b[0m \u001b[0my\u001b[0m\u001b[1;33m)\u001b[0m\u001b[1;33m\u001b[0m\u001b[0m\n\u001b[0m\u001b[0;32m    669\u001b[0m             \u001b[1;32melse\u001b[0m\u001b[1;33m:\u001b[0m\u001b[1;33m\u001b[0m\u001b[0m\n",
      "\u001b[1;31mTypeError\u001b[0m: unsupported operand type(s) for -: 'str' and 'str'",
      "\nDuring handling of the above exception, another exception occurred:\n",
      "\u001b[1;31mTypeError\u001b[0m                                 Traceback (most recent call last)",
      "\u001b[1;32m<ipython-input-196-eef41a384215>\u001b[0m in \u001b[0;36m<module>\u001b[1;34m()\u001b[0m\n\u001b[0;32m     24\u001b[0m     \u001b[0mter_var\u001b[0m\u001b[1;33m=\u001b[0m\u001b[0mter_variables\u001b[0m\u001b[1;33m.\u001b[0m\u001b[0miloc\u001b[0m\u001b[1;33m[\u001b[0m\u001b[1;33m:\u001b[0m\u001b[1;33m,\u001b[0m\u001b[0mi\u001b[0m\u001b[1;33m]\u001b[0m\u001b[1;33m\u001b[0m\u001b[0m\n\u001b[0;32m     25\u001b[0m     \u001b[1;31m#面の色データを生成\u001b[0m\u001b[1;33m\u001b[0m\u001b[1;33m\u001b[0m\u001b[0m\n\u001b[1;32m---> 26\u001b[1;33m     \u001b[0mcolor_vec\u001b[0m\u001b[1;33m=\u001b[0m\u001b[0mpd\u001b[0m\u001b[1;33m.\u001b[0m\u001b[0mDataFrame\u001b[0m\u001b[1;33m(\u001b[0m\u001b[0mcolor_taking\u001b[0m\u001b[1;33m(\u001b[0m\u001b[0mter_var\u001b[0m\u001b[1;33m)\u001b[0m\u001b[1;33m)\u001b[0m\u001b[1;33m\u001b[0m\u001b[0m\n\u001b[0m\u001b[0;32m     27\u001b[0m     \u001b[0mplydata\u001b[0m\u001b[1;33m=\u001b[0m\u001b[0marray_to_ply\u001b[0m\u001b[1;33m(\u001b[0m\u001b[0mproperty_data\u001b[0m\u001b[1;33m,\u001b[0m \u001b[0mvertice_data_all\u001b[0m\u001b[1;33m,\u001b[0m \u001b[0mvertice_color\u001b[0m\u001b[1;33m,\u001b[0m \u001b[0mfaces_data\u001b[0m\u001b[1;33m,\u001b[0m \u001b[0mfaces_color\u001b[0m\u001b[1;33m=\u001b[0m\u001b[0mcolor_vec\u001b[0m\u001b[1;33m)\u001b[0m\u001b[1;33m\u001b[0m\u001b[0m\n\u001b[0;32m     28\u001b[0m     \u001b[0msave_ply\u001b[0m\u001b[1;33m(\u001b[0m\u001b[1;34mr\"model/\"\u001b[0m\u001b[1;33m+\u001b[0m\u001b[0mspecies\u001b[0m\u001b[1;33m[\u001b[0m\u001b[0mj\u001b[0m\u001b[1;33m]\u001b[0m\u001b[1;33m+\u001b[0m\u001b[0mstr\u001b[0m\u001b[1;33m(\u001b[0m\u001b[0mk\u001b[0m\u001b[1;33m)\u001b[0m\u001b[1;33m+\u001b[0m\u001b[1;34m\"f.ply\"\u001b[0m\u001b[1;33m,\u001b[0m\u001b[0mplydata\u001b[0m\u001b[1;33m)\u001b[0m\u001b[1;33m\u001b[0m\u001b[0m\n",
      "\u001b[1;32m<ipython-input-195-740226d257a0>\u001b[0m in \u001b[0;36mcolor_taking\u001b[1;34m(terrain_variable, mode, color_range)\u001b[0m\n\u001b[0;32m     39\u001b[0m         \u001b[1;32mimport\u001b[0m \u001b[0mnumpy\u001b[0m \u001b[1;32mas\u001b[0m \u001b[0mnp\u001b[0m\u001b[1;33m\u001b[0m\u001b[0m\n\u001b[0;32m     40\u001b[0m         \u001b[1;32mimport\u001b[0m \u001b[0mmatplotlib\u001b[0m\u001b[1;33m\u001b[0m\u001b[0m\n\u001b[1;32m---> 41\u001b[1;33m         \u001b[0mhue\u001b[0m\u001b[1;33m=\u001b[0m\u001b[1;33m(\u001b[0m\u001b[0mterrain_variable\u001b[0m\u001b[1;33m-\u001b[0m\u001b[0mnp\u001b[0m\u001b[1;33m.\u001b[0m\u001b[0mmin\u001b[0m\u001b[1;33m(\u001b[0m\u001b[0mterrain_variable\u001b[0m\u001b[1;33m)\u001b[0m\u001b[1;33m)\u001b[0m\u001b[1;33m/\u001b[0m\u001b[1;33m(\u001b[0m\u001b[0mnp\u001b[0m\u001b[1;33m.\u001b[0m\u001b[0mmax\u001b[0m\u001b[1;33m(\u001b[0m\u001b[0mterrain_variable\u001b[0m\u001b[1;33m)\u001b[0m\u001b[1;33m-\u001b[0m\u001b[0mnp\u001b[0m\u001b[1;33m.\u001b[0m\u001b[0mmin\u001b[0m\u001b[1;33m(\u001b[0m\u001b[0mterrain_variable\u001b[0m\u001b[1;33m)\u001b[0m\u001b[1;33m)\u001b[0m\u001b[1;33m*\u001b[0m\u001b[0mcolor_range\u001b[0m\u001b[1;33m\u001b[0m\u001b[0m\n\u001b[0m\u001b[0;32m     42\u001b[0m         \u001b[0msat\u001b[0m\u001b[1;33m=\u001b[0m\u001b[0mnp\u001b[0m\u001b[1;33m.\u001b[0m\u001b[0mones\u001b[0m\u001b[1;33m(\u001b[0m\u001b[0mlen\u001b[0m\u001b[1;33m(\u001b[0m\u001b[0mterrain_variable\u001b[0m\u001b[1;33m)\u001b[0m\u001b[1;33m)\u001b[0m\u001b[1;33m\u001b[0m\u001b[0m\n\u001b[0;32m     43\u001b[0m         \u001b[0mbri\u001b[0m\u001b[1;33m=\u001b[0m\u001b[0mnp\u001b[0m\u001b[1;33m.\u001b[0m\u001b[0mones\u001b[0m\u001b[1;33m(\u001b[0m\u001b[0mlen\u001b[0m\u001b[1;33m(\u001b[0m\u001b[0mterrain_variable\u001b[0m\u001b[1;33m)\u001b[0m\u001b[1;33m)\u001b[0m\u001b[1;33m\u001b[0m\u001b[0m\n",
      "\u001b[1;32mc:\\users\\kanki\\appdata\\local\\continuum\\anaconda3\\lib\\site-packages\\pandas\\core\\ops.py\u001b[0m in \u001b[0;36mwrapper\u001b[1;34m(left, right, name, na_op)\u001b[0m\n\u001b[0;32m    719\u001b[0m                 \u001b[0mlvalues\u001b[0m \u001b[1;33m=\u001b[0m \u001b[0mlvalues\u001b[0m\u001b[1;33m.\u001b[0m\u001b[0mvalues\u001b[0m\u001b[1;33m\u001b[0m\u001b[0m\n\u001b[0;32m    720\u001b[0m \u001b[1;33m\u001b[0m\u001b[0m\n\u001b[1;32m--> 721\u001b[1;33m         \u001b[0mresult\u001b[0m \u001b[1;33m=\u001b[0m \u001b[0mwrap_results\u001b[0m\u001b[1;33m(\u001b[0m\u001b[0msafe_na_op\u001b[0m\u001b[1;33m(\u001b[0m\u001b[0mlvalues\u001b[0m\u001b[1;33m,\u001b[0m \u001b[0mrvalues\u001b[0m\u001b[1;33m)\u001b[0m\u001b[1;33m)\u001b[0m\u001b[1;33m\u001b[0m\u001b[0m\n\u001b[0m\u001b[0;32m    722\u001b[0m         return construct_result(\n\u001b[0;32m    723\u001b[0m             \u001b[0mleft\u001b[0m\u001b[1;33m,\u001b[0m\u001b[1;33m\u001b[0m\u001b[0m\n",
      "\u001b[1;32mc:\\users\\kanki\\appdata\\local\\continuum\\anaconda3\\lib\\site-packages\\pandas\\core\\ops.py\u001b[0m in \u001b[0;36msafe_na_op\u001b[1;34m(lvalues, rvalues)\u001b[0m\n\u001b[0;32m    690\u001b[0m                 \u001b[1;32mif\u001b[0m \u001b[0mis_object_dtype\u001b[0m\u001b[1;33m(\u001b[0m\u001b[0mlvalues\u001b[0m\u001b[1;33m)\u001b[0m\u001b[1;33m:\u001b[0m\u001b[1;33m\u001b[0m\u001b[0m\n\u001b[0;32m    691\u001b[0m                     return libalgos.arrmap_object(lvalues,\n\u001b[1;32m--> 692\u001b[1;33m                                                   lambda x: op(x, rvalues))\n\u001b[0m\u001b[0;32m    693\u001b[0m             \u001b[1;32mraise\u001b[0m\u001b[1;33m\u001b[0m\u001b[0m\n\u001b[0;32m    694\u001b[0m \u001b[1;33m\u001b[0m\u001b[0m\n",
      "\u001b[1;32mpandas\\_libs\\algos_common_helper.pxi\u001b[0m in \u001b[0;36mpandas._libs.algos.arrmap_object (pandas\\_libs\\algos.c:31954)\u001b[1;34m()\u001b[0m\n",
      "\u001b[1;32mc:\\users\\kanki\\appdata\\local\\continuum\\anaconda3\\lib\\site-packages\\pandas\\core\\ops.py\u001b[0m in \u001b[0;36m<lambda>\u001b[1;34m(x)\u001b[0m\n\u001b[0;32m    690\u001b[0m                 \u001b[1;32mif\u001b[0m \u001b[0mis_object_dtype\u001b[0m\u001b[1;33m(\u001b[0m\u001b[0mlvalues\u001b[0m\u001b[1;33m)\u001b[0m\u001b[1;33m:\u001b[0m\u001b[1;33m\u001b[0m\u001b[0m\n\u001b[0;32m    691\u001b[0m                     return libalgos.arrmap_object(lvalues,\n\u001b[1;32m--> 692\u001b[1;33m                                                   lambda x: op(x, rvalues))\n\u001b[0m\u001b[0;32m    693\u001b[0m             \u001b[1;32mraise\u001b[0m\u001b[1;33m\u001b[0m\u001b[0m\n\u001b[0;32m    694\u001b[0m \u001b[1;33m\u001b[0m\u001b[0m\n",
      "\u001b[1;31mTypeError\u001b[0m: unsupported operand type(s) for -: 'str' and 'str'"
     ]
    }
   ],
   "source": [
    "ter_variables=pd.read_csv(\"mydata.csv\", header=None)\n",
    "\n",
    "#点の座標，法線，色の読み込み\n",
    "vertice_data=pd.read_csv(\"vertice_dataset.csv\", header=None)\n",
    "vertice_data=vertice_data.round(6)\n",
    "vertice_vector=pd.read_csv(\"vertice_normal.csv\", header=None)\n",
    "vertice_vector=vertice_vector.round(6)\n",
    "vertice_color=pd.read_csv(\"vertice_color.csv\", header=None)\n",
    "vertice_color=vertice_color.astype(int)\n",
    "vertice_data_all=pd.concat([vertice_data, vertice_vector], axis=1)\n",
    "#面のデータ\n",
    "faces_data=pd.read_csv(\"faces_dataset.csv\", header=None)\n",
    "#プロパティ\n",
    "p_file=open(\"property_data.csv\")\n",
    "property_data=[]\n",
    "for line in p_file:\n",
    "    property_data.append(line[1:])\n",
    "property_data=property_data[::2]\n",
    "\n",
    "species=[\"bathy\", \"ori_x\", \"ori_y\", \"slope\", \"rough\"]\n",
    "for i in range(0, len(ter_variables.iloc[0,:])):\n",
    "    j=i%5\n",
    "    k=int(i/5)\n",
    "    ter_var=ter_variables.iloc[:,i]\n",
    "    #面の色データを生成\n",
    "    color_vec=pd.DataFrame(color_taking(ter_var))\n",
    "    plydata=array_to_ply(property_data, vertice_data_all, vertice_color, faces_data, faces_color=color_vec)\n",
    "    save_ply(r\"model/\"+species[j]+str(k)+\"f.ply\",plydata)"
   ]
  },
  {
   "cell_type": "code",
   "execution_count": 191,
   "metadata": {},
   "outputs": [],
   "source": [
    "model_path=r\"C:\\Users\\KANKI\\Documents\\github\\habmap\\modelA01\\modelA01.ply\"\n",
    "#ファイルの読み込み\n",
    "property_data, vertice_dataset, faces_dataset=ply_read(model_path)\n",
    "\n",
    "#点の座標，法線，色の読み込み\n",
    "vertice_data=pd.read_csv(\"vertice_dataset.csv\", header=None)\n",
    "vertice_data=vertice_data.round(6)\n",
    "vertice_vector=pd.read_csv(\"vertice_normal.csv\", header=None)\n",
    "vertice_vector=vertice_vector.round(6)\n",
    "vertice_color=pd.read_csv(\"vertice_color.csv\", header=None)\n",
    "vertice_color=vertice_color.astype(int)\n",
    "vertice_data_all=pd.concat([vertice_data, vertice_vector], axis=1)\n",
    "#面のデータ\n",
    "faces_data=pd.read_csv(\"faces_dataset.csv\", header=None)\n",
    "#プロパティ\n",
    "p_file=open(\"property_data.csv\")\n",
    "property_data=[]\n",
    "for line in p_file:\n",
    "    property_data.append(line[1:])\n",
    "property_data=property_data[::2]\n",
    "\n",
    "#変数データの読み込み\n",
    "#i=1\n",
    "ter_variables=pd.read_csv(\"mydata.csv\", header=None)\n",
    "#ter_variables.iloc[:,0]\n",
    "ter_var=np.zeros(len(faces_data))#ter_variables.iloc[:,0]\n",
    "for i in range(len(faces_data)):\n",
    "    ter_var[i]=vertice_data.iloc[faces_data.iloc[i,0],2]                 \n",
    "                       \n",
    "#面の色データを生成\n",
    "#color_vec=pd.DataFrame(color_taking(ter_var))\n",
    "hue=(ter_var-np.min(ter_var))/(np.max(ter_var)-np.min(ter_var))\n",
    "sat=np.ones(len(ter_var))\n",
    "bri=np.ones(len(ter_var))\n",
    "color_vec=np.array([hue, sat, bri]).T\n",
    "color_vec2=matplotlib.colors.hsv_to_rgb(color_vec)*255\n",
    "color_vec3=color_vec2.astype(int)\n",
    "color_vec3=pd.DataFrame(color_vec3)"
   ]
  },
  {
   "cell_type": "code",
   "execution_count": 190,
   "metadata": {},
   "outputs": [
    {
     "name": "stdout",
     "output_type": "stream",
     "text": [
      "4.447741\n",
      "4.405175\n",
      "4.321334\n"
     ]
    }
   ],
   "source": [
    "print(vertice_data.iloc[24785,2])\n",
    "print(vertice_data.iloc[23766,2])#24785 23766 1225\n",
    "print(vertice_data.iloc[1225,2])"
   ]
  },
  {
   "cell_type": "code",
   "execution_count": 183,
   "metadata": {},
   "outputs": [
    {
     "name": "stdout",
     "output_type": "stream",
     "text": [
      "3.206937\n"
     ]
    }
   ],
   "source": [
    "print(vertice_data.iloc[0,2])"
   ]
  },
  {
   "cell_type": "code",
   "execution_count": 169,
   "metadata": {},
   "outputs": [
    {
     "data": {
      "text/plain": [
       "(1.0, 0.0, 0.41792083145916514)"
      ]
     },
     "execution_count": 169,
     "metadata": {},
     "output_type": "execute_result"
    }
   ],
   "source": [
    "import colorsys\n",
    "colorsys.hsv_to_rgb(color_vec[0][0], color_vec[0][1], color_vec[0][2])"
   ]
  },
  {
   "cell_type": "code",
   "execution_count": 170,
   "metadata": {},
   "outputs": [
    {
     "data": {
      "text/plain": [
       "array([[255.        ,   0.        , 106.56981202],\n",
       "       [165.23452532,   0.        , 255.        ],\n",
       "       [255.        ,   0.        ,  11.17598949],\n",
       "       ...,\n",
       "       [  0.        , 255.        ,  32.77962978],\n",
       "       [  0.        , 255.        ,  32.77962978],\n",
       "       [255.        ,   0.        , 147.07198323]])"
      ]
     },
     "execution_count": 170,
     "metadata": {},
     "output_type": "execute_result"
    }
   ],
   "source": [
    "color_vec2"
   ]
  },
  {
   "cell_type": "code",
   "execution_count": 192,
   "metadata": {},
   "outputs": [],
   "source": [
    "plydata=array_to_ply(property_data, vertice_data_all, vertice_color, faces_data, faces_color=color_vec3)\n",
    "save_ply(\"ter_var.ply\",plydata)"
   ]
  },
  {
   "cell_type": "code",
   "execution_count": null,
   "metadata": {},
   "outputs": [],
   "source": []
  }
 ],
 "metadata": {
  "kernelspec": {
   "display_name": "Python 3",
   "language": "python",
   "name": "python3"
  },
  "language_info": {
   "codemirror_mode": {
    "name": "ipython",
    "version": 3
   },
   "file_extension": ".py",
   "mimetype": "text/x-python",
   "name": "python",
   "nbconvert_exporter": "python",
   "pygments_lexer": "ipython3",
   "version": "3.6.1"
  }
 },
 "nbformat": 4,
 "nbformat_minor": 2
}
